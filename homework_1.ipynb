{
 "cells": [
  {
   "cell_type": "markdown",
   "metadata": {},
   "source": [
    "# Homework 1"
   ]
  },
  {
   "cell_type": "markdown",
   "metadata": {},
   "source": [
    "## Setup"
   ]
  },
  {
   "cell_type": "markdown",
   "metadata": {},
   "source": [
    "### Installing and Importing Packages"
   ]
  },
  {
   "cell_type": "code",
   "execution_count": 9,
   "metadata": {},
   "outputs": [
    {
     "name": "stdout",
     "output_type": "stream",
     "text": [
      "Requirement already satisfied: networkx in /Users/othmane123/opt/anaconda3/lib/python3.9/site-packages (2.7.1)\n"
     ]
    }
   ],
   "source": [
    "!pip install networkx"
   ]
  },
  {
   "cell_type": "code",
   "execution_count": 10,
   "metadata": {},
   "outputs": [],
   "source": [
    "import networkx as nx\n"
   ]
  },
  {
   "cell_type": "markdown",
   "metadata": {},
   "source": [
    "### Creating the graphs"
   ]
  },
  {
   "cell_type": "markdown",
   "metadata": {},
   "source": [
    "Create two NetworkX graph objects for Facebook and Twitter. The graph for Facebook is undirected but the graph for Twitter is Directed."
   ]
  },
  {
   "cell_type": "code",
   "execution_count": 11,
   "metadata": {},
   "outputs": [],
   "source": [
    "facebook = nx.Graph()\n",
    "twitter = nx.DiGraph()"
   ]
  },
  {
   "cell_type": "markdown",
   "metadata": {},
   "source": [
    "Read the edges and construct the graph for Facebook -\n",
    "It is important to note that facebook's graph is undirected and that The 'ego' node does not appear, but it is assumed that they follow every node id that appears in the file."
   ]
  },
  {
   "cell_type": "code",
   "execution_count": 12,
   "metadata": {},
   "outputs": [],
   "source": [
    "f = open(\"Facebook-Ego/3437_2.edges\", \"r\")\n",
    "fb_edges = []\n",
    "fb_ego = 3437\n",
    "for line in f:\n",
    "  node_1 = int(line.split(\" \")[0])\n",
    "  node_2 = int(line.split(\" \")[1])\n",
    "  fb_edges.append((fb_ego, node_1))\n",
    "  fb_edges.append((fb_ego, node_2))\n",
    "  fb_edges.append((node_1, node_2))\n",
    "f.close()\n",
    "\n",
    "facebook.add_edges_from(fb_edges)\n"
   ]
  },
  {
   "cell_type": "markdown",
   "metadata": {},
   "source": [
    "Read the edges and construct the graph for Twitter -\n",
    "It is important to note that Edges are directed (a follows b). The 'ego' node does not appear, but it is assumed that they follow every node id that appears in this file."
   ]
  },
  {
   "cell_type": "code",
   "execution_count": 13,
   "metadata": {},
   "outputs": [],
   "source": [
    "f = open(\"Twitter-Ego/6408382.edges\", \"r\")\n",
    "twitter_edges = []\n",
    "twitter_ego = 6408382\n",
    "for line in f:\n",
    "  node_1 = int(line.split(\" \")[0])\n",
    "  node_2 = int(line.split(\" \")[1])\n",
    "  twitter_edges.append((twitter_ego, node_1))\n",
    "  twitter_edges.append((twitter_ego, node_2))\n",
    "  twitter_edges.append((node_1, node_2))\n",
    "f.close()\n",
    "\n",
    "twitter.add_edges_from(twitter_edges)"
   ]
  },
  {
   "cell_type": "markdown",
   "metadata": {},
   "source": [
    "## (a) How many nodes and edges are there in the networks?"
   ]
  },
  {
   "cell_type": "code",
   "execution_count": 14,
   "metadata": {},
   "outputs": [
    {
     "name": "stdout",
     "output_type": "stream",
     "text": [
      "There are 133 nodes and 499 edges in the facebook graph\n"
     ]
    }
   ],
   "source": [
    "fb_nodes_count = facebook.number_of_nodes()\n",
    "fb_edges_count = facebook.number_of_edges()\n",
    "print(f\"There are {fb_nodes_count} nodes and {fb_edges_count} edges in the facebook graph\")"
   ]
  },
  {
   "cell_type": "code",
   "execution_count": 15,
   "metadata": {},
   "outputs": [
    {
     "name": "stdout",
     "output_type": "stream",
     "text": [
      "There are 152 nodes and 3530 edges in the twitter graph\n"
     ]
    }
   ],
   "source": [
    "twitter_nodes_count = twitter.number_of_nodes()\n",
    "twitter_edges_count = twitter.number_of_edges()\n",
    "print(f\"There are {twitter_nodes_count} nodes and {twitter_edges_count} edges in the twitter graph\")"
   ]
  },
  {
   "cell_type": "markdown",
   "metadata": {},
   "source": [
    "## (b) What are the maximum degree and the average degree of the networks?"
   ]
  },
  {
   "cell_type": "markdown",
   "metadata": {},
   "source": []
  }
 ],
 "metadata": {
  "kernelspec": {
   "display_name": "base",
   "language": "python",
   "name": "python3"
  },
  "language_info": {
   "codemirror_mode": {
    "name": "ipython",
    "version": 3
   },
   "file_extension": ".py",
   "mimetype": "text/x-python",
   "name": "python",
   "nbconvert_exporter": "python",
   "pygments_lexer": "ipython3",
   "version": "3.9.12"
  }
 },
 "nbformat": 4,
 "nbformat_minor": 2
}
