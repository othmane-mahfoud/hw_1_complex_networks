{
 "cells": [
  {
   "cell_type": "markdown",
   "metadata": {},
   "source": [
    "# Homework 1"
   ]
  },
  {
   "cell_type": "markdown",
   "metadata": {},
   "source": [
    "## Setup"
   ]
  },
  {
   "cell_type": "markdown",
   "metadata": {},
   "source": [
    "### Installing and Importing Packages"
   ]
  },
  {
   "cell_type": "code",
   "execution_count": 9,
   "metadata": {},
   "outputs": [
    {
     "name": "stdout",
     "output_type": "stream",
     "text": [
      "Requirement already satisfied: networkx in /Users/othmane123/opt/anaconda3/lib/python3.9/site-packages (2.7.1)\n"
     ]
    }
   ],
   "source": [
    "!pip install networkx"
   ]
  },
  {
   "cell_type": "code",
   "execution_count": 10,
   "metadata": {},
   "outputs": [],
   "source": [
    "import networkx as nx\n"
   ]
  },
  {
   "cell_type": "markdown",
   "metadata": {},
   "source": [
    "### Creating the graphs"
   ]
  },
  {
   "cell_type": "markdown",
   "metadata": {},
   "source": [
    "Create two NetworkX graph objects for Facebook and Twitter. The graph for Facebook is undirected but the graph for Twitter is Directed."
   ]
  },
  {
   "cell_type": "code",
   "execution_count": 11,
   "metadata": {},
   "outputs": [],
   "source": [
    "facebook = nx.Graph()\n",
    "twitter = nx.DiGraph()"
   ]
  },
  {
   "cell_type": "markdown",
   "metadata": {},
   "source": [
    "Read the edges and construct the graph for Facebook -\n",
    "It is important to note that facebook's graph is undirected and that The 'ego' node does not appear, but it is assumed that they follow every node id that appears in the file."
   ]
  },
  {
   "cell_type": "code",
   "execution_count": 12,
   "metadata": {},
   "outputs": [],
   "source": [
    "f = open(\"Facebook-Ego/3437_2.edges\", \"r\")\n",
    "fb_edges = []\n",
    "fb_ego = 3437\n",
    "for line in f:\n",
    "  node_1 = int(line.split(\" \")[0])\n",
    "  node_2 = int(line.split(\" \")[1])\n",
    "  fb_edges.append((fb_ego, node_1))\n",
    "  fb_edges.append((fb_ego, node_2))\n",
    "  fb_edges.append((node_1, node_2))\n",
    "f.close()\n",
    "\n",
    "facebook.add_edges_from(fb_edges)\n"
   ]
  },
  {
   "cell_type": "markdown",
   "metadata": {},
   "source": [
    "Read the edges and construct the graph for Twitter -\n",
    "It is important to note that Edges are directed (a follows b). The 'ego' node does not appear, but it is assumed that they follow every node id that appears in this file."
   ]
  },
  {
   "cell_type": "code",
   "execution_count": 13,
   "metadata": {},
   "outputs": [],
   "source": [
    "f = open(\"Twitter-Ego/6408382.edges\", \"r\")\n",
    "twitter_edges = []\n",
    "twitter_ego = 6408382\n",
    "for line in f:\n",
    "  node_1 = int(line.split(\" \")[0])\n",
    "  node_2 = int(line.split(\" \")[1])\n",
    "  twitter_edges.append((twitter_ego, node_1))\n",
    "  twitter_edges.append((twitter_ego, node_2))\n",
    "  twitter_edges.append((node_1, node_2))\n",
    "f.close()\n",
    "\n",
    "twitter.add_edges_from(twitter_edges)"
   ]
  },
  {
   "cell_type": "markdown",
   "metadata": {},
   "source": [
    "## (a) How many nodes and edges are there in the networks?"
   ]
  },
  {
   "cell_type": "code",
   "execution_count": 14,
   "metadata": {},
   "outputs": [
    {
     "name": "stdout",
     "output_type": "stream",
     "text": [
      "There are 133 nodes and 499 edges in the facebook graph\n"
     ]
    }
   ],
   "source": [
    "fb_nodes_count = facebook.number_of_nodes()\n",
    "fb_edges_count = facebook.number_of_edges()\n",
    "print(f\"There are {fb_nodes_count} nodes and {fb_edges_count} edges in the facebook graph\")"
   ]
  },
  {
   "cell_type": "code",
   "execution_count": 15,
   "metadata": {},
   "outputs": [
    {
     "name": "stdout",
     "output_type": "stream",
     "text": [
      "There are 152 nodes and 3530 edges in the twitter graph\n"
     ]
    }
   ],
   "source": [
    "twitter_nodes_count = twitter.number_of_nodes()\n",
    "twitter_edges_count = twitter.number_of_edges()\n",
    "print(f\"There are {twitter_nodes_count} nodes and {twitter_edges_count} edges in the twitter graph\")"
   ]
  },
  {
   "cell_type": "markdown",
   "metadata": {},
   "source": [
    "## (b) What are the maximum degree and the average degree of the networks?"
   ]
  },
  {
   "cell_type": "markdown",
   "metadata": {},
   "source": [
    "### Facebook"
   ]
  },
  {
   "cell_type": "code",
   "execution_count": 18,
   "metadata": {},
   "outputs": [
    {
     "name": "stdout",
     "output_type": "stream",
     "text": [
      "The maximum degree of the facebook network is: 132\n"
     ]
    }
   ],
   "source": [
    "degrees = dict(facebook.degree())\n",
    "max_degree = max(degrees.values())\n",
    "\n",
    "print(\"The maximum degree of the facebook network is:\", max_degree)"
   ]
  },
  {
   "cell_type": "code",
   "execution_count": 20,
   "metadata": {},
   "outputs": [
    {
     "name": "stdout",
     "output_type": "stream",
     "text": [
      "The average degree of the facebook network is: 7.503759398496241\n"
     ]
    }
   ],
   "source": [
    "total_degrees = sum(dict(facebook.degree()).values())\n",
    "num_nodes = facebook.number_of_nodes()\n",
    "average_degree = total_degrees / num_nodes\n",
    "\n",
    "print(\"The average degree of the facebook network is:\", average_degree)"
   ]
  },
  {
   "cell_type": "markdown",
   "metadata": {},
   "source": [
    "### Twitter "
   ]
  },
  {
   "cell_type": "code",
   "execution_count": 17,
   "metadata": {},
   "outputs": [
    {
     "name": "stdout",
     "output_type": "stream",
     "text": [
      "The maximum degree of the twitter network is: 151\n"
     ]
    }
   ],
   "source": [
    "degrees = dict(twitter.degree())\n",
    "\n",
    "max_degree = max(degrees.values())\n",
    "\n",
    "print(\"The maximum degree of the twitter network is:\", max_degree)"
   ]
  },
  {
   "cell_type": "code",
   "execution_count": 22,
   "metadata": {},
   "outputs": [
    {
     "name": "stdout",
     "output_type": "stream",
     "text": [
      "The average degree of the twitter network is: 46.44736842105263\n"
     ]
    }
   ],
   "source": [
    "total_degrees = sum(dict(twitter.degree()).values())\n",
    "num_nodes = twitter.number_of_nodes()\n",
    "average_degree = total_degrees / num_nodes\n",
    "\n",
    "print(\"The average degree of the twitter network is:\", average_degree)"
   ]
  },
  {
   "cell_type": "markdown",
   "metadata": {},
   "source": [
    "## (c) Extract 5 - 8 nodes from the network and state them as a partial network. What is the adjacency matrix of the partial network? Why do we need adjacency matrix to describe the structure of the network?"
   ]
  },
  {
   "cell_type": "markdown",
   "metadata": {},
   "source": [
    "### Facebook"
   ]
  },
  {
   "cell_type": "markdown",
   "metadata": {},
   "source": [
    "We start first by extracting some nodes from the graph "
   ]
  },
  {
   "cell_type": "code",
   "execution_count": 35,
   "metadata": {},
   "outputs": [],
   "source": [
    "nodes_to_extract = [3710,3713,3633,3596,3702,3627,3718,3584]\n",
    "partial_network = facebook.subgraph(nodes_to_extract)"
   ]
  },
  {
   "cell_type": "markdown",
   "metadata": {},
   "source": [
    "Then we get the adjacency matrix of the partial network"
   ]
  },
  {
   "cell_type": "code",
   "execution_count": 36,
   "metadata": {},
   "outputs": [
    {
     "data": {
      "text/plain": [
       "array([[0., 1., 0., 0., 0., 0., 0., 0.],\n",
       "       [1., 0., 0., 0., 0., 0., 0., 0.],\n",
       "       [0., 0., 0., 1., 0., 0., 0., 0.],\n",
       "       [0., 0., 1., 0., 1., 1., 0., 0.],\n",
       "       [0., 0., 0., 1., 0., 1., 0., 0.],\n",
       "       [0., 0., 0., 1., 1., 0., 0., 0.],\n",
       "       [0., 0., 0., 0., 0., 0., 0., 1.],\n",
       "       [0., 0., 0., 0., 0., 0., 1., 0.]])"
      ]
     },
     "execution_count": 36,
     "metadata": {},
     "output_type": "execute_result"
    }
   ],
   "source": [
    "matrix = nx.to_numpy_array(partial_network, nodelist=nodes_to_extract)\n",
    "matrix"
   ]
  },
  {
   "cell_type": "markdown",
   "metadata": {},
   "source": [
    "### Twitter"
   ]
  },
  {
   "cell_type": "markdown",
   "metadata": {},
   "source": [
    "We start first by extracting some nodes from the graph "
   ]
  },
  {
   "cell_type": "code",
   "execution_count": 39,
   "metadata": {},
   "outputs": [],
   "source": [
    "nodes_to_extract = [390660853, 79024978, 64838619, 16434310, 93598339, 37878528, 16475403, 15039741]\n",
    "partial_network = twitter.subgraph(nodes_to_extract)"
   ]
  },
  {
   "cell_type": "markdown",
   "metadata": {},
   "source": [
    "Then we get the adjacency matrix of the partial network"
   ]
  },
  {
   "cell_type": "code",
   "execution_count": 40,
   "metadata": {},
   "outputs": [
    {
     "data": {
      "text/plain": [
       "array([[0., 1., 0., 0., 0., 0., 0., 0.],\n",
       "       [0., 0., 0., 1., 0., 0., 0., 0.],\n",
       "       [0., 1., 0., 1., 0., 1., 1., 0.],\n",
       "       [0., 1., 1., 0., 1., 1., 0., 0.],\n",
       "       [0., 0., 0., 1., 0., 0., 0., 0.],\n",
       "       [0., 0., 0., 1., 0., 0., 0., 0.],\n",
       "       [0., 0., 0., 0., 0., 0., 0., 1.],\n",
       "       [0., 0., 0., 1., 0., 0., 1., 0.]])"
      ]
     },
     "execution_count": 40,
     "metadata": {},
     "output_type": "execute_result"
    }
   ],
   "source": [
    "matrix = nx.to_numpy_array(partial_network, nodelist=nodes_to_extract)\n",
    "matrix"
   ]
  },
  {
   "cell_type": "markdown",
   "metadata": {},
   "source": [
    "### Why do we need adjacency matrix to describe the structure of the network?"
   ]
  },
  {
   "cell_type": "markdown",
   "metadata": {},
   "source": [
    "Adjacency matrices provide a compact and clear representation of networks, and while they might be memory consuming in some cases they are great for use cases like these where we have a small/partial network. The adjacency matrix representation can be used for all cases wether the graph is directed or undirectd, weighted or unweighted. Matrices are also ideal for mathematical analyses using linear algebra but also for various computer algorithms for shortest path, clustering etc."
   ]
  }
 ],
 "metadata": {
  "kernelspec": {
   "display_name": "base",
   "language": "python",
   "name": "python3"
  },
  "language_info": {
   "codemirror_mode": {
    "name": "ipython",
    "version": 3
   },
   "file_extension": ".py",
   "mimetype": "text/x-python",
   "name": "python",
   "nbconvert_exporter": "python",
   "pygments_lexer": "ipython3",
   "version": "3.9.12"
  }
 },
 "nbformat": 4,
 "nbformat_minor": 2
}
